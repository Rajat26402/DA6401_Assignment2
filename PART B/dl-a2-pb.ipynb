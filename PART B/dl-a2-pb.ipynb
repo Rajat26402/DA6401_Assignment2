{
 "cells": [
  {
   "cell_type": "code",
   "execution_count": null,
   "metadata": {
    "_cell_guid": "b1076dfc-b9ad-4769-8c92-a6c4dae69d19",
    "_uuid": "8f2839f25d086af736a60e9eeb907d3b93b6e0e5",
    "trusted": true
   },
   "outputs": [],
   "source": [
    "# This Python 3 environment comes with many helpful analytics libraries installed\n",
    "# It is defined by the kaggle/python Docker image: https://github.com/kaggle/docker-python\n",
    "# For example, here's several helpful packages to load\n",
    "\n",
    "import numpy as np # linear algebra\n",
    "import pandas as pd # data processing, CSV file I/O (e.g. pd.read_csv)\n",
    "\n",
    "# Input data files are available in the read-only \"../input/\" directory\n",
    "# For example, running this (by clicking run or pressing Shift+Enter) will list all files under the input directory\n",
    "\n",
    "import os\n",
    "for dirname, _, filenames in os.walk('/kaggle/input'):\n",
    "    for filename in filenames:\n",
    "        print(os.path.join(dirname, filename))\n",
    "\n",
    "# You can write up to 20GB to the current directory (/kaggle/working/) that gets preserved as output when you create a version using \"Save & Run All\" \n",
    "# You can also write temporary files to /kaggle/temp/, but they won't be saved outside of the current session"
   ]
  },
  {
   "cell_type": "markdown",
   "metadata": {},
   "source": [
    "**Resnet** "
   ]
  },
  {
   "cell_type": "code",
   "execution_count": 1,
   "metadata": {
    "execution": {
     "iopub.execute_input": "2025-04-19T09:20:11.128450Z",
     "iopub.status.busy": "2025-04-19T09:20:11.128289Z",
     "iopub.status.idle": "2025-04-19T09:20:27.335490Z",
     "shell.execute_reply": "2025-04-19T09:20:27.334672Z",
     "shell.execute_reply.started": "2025-04-19T09:20:11.128436Z"
    },
    "trusted": true
   },
   "outputs": [
    {
     "name": "stderr",
     "output_type": "stream",
     "text": [
      "\u001b[34m\u001b[1mwandb\u001b[0m: \u001b[33mWARNING\u001b[0m If you're specifying your api key in code, ensure this code is not shared publicly.\n",
      "\u001b[34m\u001b[1mwandb\u001b[0m: \u001b[33mWARNING\u001b[0m Consider setting the WANDB_API_KEY environment variable, or running `wandb login` from the command line.\n",
      "\u001b[34m\u001b[1mwandb\u001b[0m: Appending key for api.wandb.ai to your netrc file: /root/.netrc\n",
      "\u001b[34m\u001b[1mwandb\u001b[0m: Currently logged in as: \u001b[33mda24m014\u001b[0m (\u001b[33mda24m014-iit-madras\u001b[0m) to \u001b[32mhttps://api.wandb.ai\u001b[0m. Use \u001b[1m`wandb login --relogin`\u001b[0m to force relogin\n"
     ]
    },
    {
     "data": {
      "text/plain": [
       "True"
      ]
     },
     "execution_count": 1,
     "metadata": {},
     "output_type": "execute_result"
    }
   ],
   "source": [
    "import os\n",
    "import torch\n",
    "import torch.nn as nn\n",
    "import torch.optim as optim\n",
    "from torch.amp import autocast, GradScaler\n",
    "from torchvision import datasets, transforms, models\n",
    "from torch.utils.data import DataLoader, random_split\n",
    "import wandb\n",
    "\n",
    "# WandB login\n",
    "wandb.login(key=\"d6f8c99f1fd73267470842bbf00f03ae845f7308\")"
   ]
  },
  {
   "cell_type": "code",
   "execution_count": null,
   "metadata": {
    "execution": {
     "iopub.execute_input": "2025-04-19T09:20:31.783478Z",
     "iopub.status.busy": "2025-04-19T09:20:31.782901Z",
     "iopub.status.idle": "2025-04-19T09:20:31.873641Z",
     "shell.execute_reply": "2025-04-19T09:20:31.872917Z",
     "shell.execute_reply.started": "2025-04-19T09:20:31.783455Z"
    },
    "trusted": true
   },
   "outputs": [],
   "source": [
    "device = torch.device(\"cuda\" if torch.cuda.is_available() else \"cpu\")\n",
    "\n",
    "data_dir = \"/kaggle/input/nature/nature_12K/inaturalist_12K\"\n",
    "batch_size = 64\n",
    "img_size = 224\n",
    "num_classes = 10\n",
    "epochs = 15\n",
    "lr = 1e-4\n",
    "\n",
    "# ImageNet normalization\n",
    "imagenet_mean = [0.485, 0.456, 0.406]\n",
    "imagenet_std = [0.229, 0.224, 0.225]"
   ]
  },
  {
   "cell_type": "code",
   "execution_count": 3,
   "metadata": {
    "execution": {
     "iopub.execute_input": "2025-04-19T09:20:33.552084Z",
     "iopub.status.busy": "2025-04-19T09:20:33.551776Z",
     "iopub.status.idle": "2025-04-19T09:20:33.557785Z",
     "shell.execute_reply": "2025-04-19T09:20:33.557011Z",
     "shell.execute_reply.started": "2025-04-19T09:20:33.552062Z"
    },
    "trusted": true
   },
   "outputs": [],
   "source": [
    "# Transforms\n",
    "train_transform = transforms.Compose([\n",
    "    transforms.Resize((img_size + 32, img_size + 32)),\n",
    "    transforms.RandomCrop(img_size),\n",
    "    transforms.RandomHorizontalFlip(),\n",
    "    transforms.RandomVerticalFlip(),\n",
    "    transforms.RandomRotation(15),\n",
    "    transforms.ColorJitter(brightness=0.2, contrast=0.2, saturation=0.2, hue=0.1),\n",
    "    transforms.RandomAffine(degrees=15, translate=(0.1, 0.1)),\n",
    "    transforms.ToTensor(),\n",
    "    transforms.Normalize(mean=imagenet_mean, std=imagenet_std)\n",
    "])\n",
    "\n",
    "val_transform = transforms.Compose([\n",
    "    transforms.Resize((img_size, img_size)),\n",
    "    transforms.ToTensor(),\n",
    "    transforms.Normalize(mean=imagenet_mean, std=imagenet_std)\n",
    "])"
   ]
  },
  {
   "cell_type": "code",
   "execution_count": 4,
   "metadata": {
    "execution": {
     "iopub.execute_input": "2025-04-19T09:20:35.772326Z",
     "iopub.status.busy": "2025-04-19T09:20:35.772060Z",
     "iopub.status.idle": "2025-04-19T09:21:04.087101Z",
     "shell.execute_reply": "2025-04-19T09:21:04.086383Z",
     "shell.execute_reply.started": "2025-04-19T09:20:35.772307Z"
    },
    "trusted": true
   },
   "outputs": [
    {
     "name": "stderr",
     "output_type": "stream",
     "text": [
      "Downloading: \"https://download.pytorch.org/models/resnet50-0676ba61.pth\" to /root/.cache/torch/hub/checkpoints/resnet50-0676ba61.pth\n",
      "100%|██████████| 97.8M/97.8M [00:00<00:00, 167MB/s] \n"
     ]
    }
   ],
   "source": [
    "# Dataset and loaders\n",
    "full_dataset = datasets.ImageFolder(os.path.join(data_dir, \"train\"), transform=train_transform)\n",
    "train_size = int(0.8 * len(full_dataset))\n",
    "val_size = len(full_dataset) - train_size\n",
    "train_ds, val_ds = random_split(full_dataset, [train_size, val_size])\n",
    "test_ds = datasets.ImageFolder(os.path.join(data_dir, \"val\"), transform=val_transform)\n",
    "\n",
    "train_loader = DataLoader(train_ds, batch_size=batch_size, shuffle=True, num_workers=2)\n",
    "val_loader = DataLoader(val_ds, batch_size=batch_size, num_workers=2)\n",
    "test_loader = DataLoader(test_ds, batch_size=batch_size, num_workers=2)\n",
    "\n",
    "# Load pre-trained ResNet50\n",
    "model = models.resnet50(weights=models.ResNet50_Weights.IMAGENET1K_V1)"
   ]
  },
  {
   "cell_type": "code",
   "execution_count": 5,
   "metadata": {
    "execution": {
     "iopub.execute_input": "2025-04-19T09:21:04.088534Z",
     "iopub.status.busy": "2025-04-19T09:21:04.088276Z",
     "iopub.status.idle": "2025-04-19T09:21:04.321526Z",
     "shell.execute_reply": "2025-04-19T09:21:04.320766Z",
     "shell.execute_reply.started": "2025-04-19T09:21:04.088511Z"
    },
    "trusted": true
   },
   "outputs": [],
   "source": [
    "# Fine-tuning strategy: unfreeze layer4 and fc\n",
    "for param in model.parameters():\n",
    "    param.requires_grad = False\n",
    "for param in model.layer4.parameters():\n",
    "    param.requires_grad = True\n",
    "for param in model.fc.parameters():\n",
    "    param.requires_grad = True\n",
    "\n",
    "# Replace classifier\n",
    "model.fc = nn.Linear(model.fc.in_features, num_classes)\n",
    "model = model.to(device)\n",
    "\n",
    "# Loss, optimizer, scaler, scheduler\n",
    "criterion = nn.CrossEntropyLoss(label_smoothing=0.1)\n",
    "optimizer = optim.Adam(filter(lambda p: p.requires_grad, model.parameters()), lr=lr)\n",
    "scheduler = optim.lr_scheduler.StepLR(optimizer, step_size=5, gamma=0.5)\n",
    "scaler = GradScaler()"
   ]
  },
  {
   "cell_type": "code",
   "execution_count": 6,
   "metadata": {
    "execution": {
     "iopub.execute_input": "2025-04-19T09:21:15.829963Z",
     "iopub.status.busy": "2025-04-19T09:21:15.829674Z",
     "iopub.status.idle": "2025-04-19T09:21:23.023711Z",
     "shell.execute_reply": "2025-04-19T09:21:23.023123Z",
     "shell.execute_reply.started": "2025-04-19T09:21:15.829940Z"
    },
    "trusted": true
   },
   "outputs": [
    {
     "name": "stderr",
     "output_type": "stream",
     "text": [
      "\u001b[34m\u001b[1mwandb\u001b[0m: Using wandb-core as the SDK backend.  Please refer to https://wandb.me/wandb-core for more information.\n"
     ]
    },
    {
     "data": {
      "text/html": [
       "Tracking run with wandb version 0.19.6"
      ],
      "text/plain": [
       "<IPython.core.display.HTML object>"
      ]
     },
     "metadata": {},
     "output_type": "display_data"
    },
    {
     "data": {
      "text/html": [
       "Run data is saved locally in <code>/kaggle/working/wandb/run-20250419_092115-mbow948k</code>"
      ],
      "text/plain": [
       "<IPython.core.display.HTML object>"
      ]
     },
     "metadata": {},
     "output_type": "display_data"
    },
    {
     "data": {
      "text/html": [
       "Syncing run <strong><a href='https://wandb.ai/da24m014-iit-madras/DLA2-PartB/runs/mbow948k' target=\"_blank\">ResNet50-finetune-enhanced</a></strong> to <a href='https://wandb.ai/da24m014-iit-madras/DLA2-PartB' target=\"_blank\">Weights & Biases</a> (<a href='https://wandb.me/developer-guide' target=\"_blank\">docs</a>)<br>"
      ],
      "text/plain": [
       "<IPython.core.display.HTML object>"
      ]
     },
     "metadata": {},
     "output_type": "display_data"
    },
    {
     "data": {
      "text/html": [
       " View project at <a href='https://wandb.ai/da24m014-iit-madras/DLA2-PartB' target=\"_blank\">https://wandb.ai/da24m014-iit-madras/DLA2-PartB</a>"
      ],
      "text/plain": [
       "<IPython.core.display.HTML object>"
      ]
     },
     "metadata": {},
     "output_type": "display_data"
    },
    {
     "data": {
      "text/html": [
       " View run at <a href='https://wandb.ai/da24m014-iit-madras/DLA2-PartB/runs/mbow948k' target=\"_blank\">https://wandb.ai/da24m014-iit-madras/DLA2-PartB/runs/mbow948k</a>"
      ],
      "text/plain": [
       "<IPython.core.display.HTML object>"
      ]
     },
     "metadata": {},
     "output_type": "display_data"
    }
   ],
   "source": [
    "wandb.init(project=\"DLA2-PartB\", name=\"ResNet50-finetune-enhanced\", config={\n",
    "    \"strategy\": \"unfreeze layer4 and fc\",\n",
    "    \"model\": \"ResNet50\",\n",
    "    \"epochs\": epochs,\n",
    "    \"batch_size\": batch_size,\n",
    "    \"lr\": lr,\n",
    "    \"augmentation\": True,\n",
    "    \"label_smoothing\": 0.1,\n",
    "    \"scheduler\": \"StepLR(step_size=5, gamma=0.5)\"\n",
    "})\n",
    "wandb.watch(model)"
   ]
  },
  {
   "cell_type": "code",
   "execution_count": 7,
   "metadata": {
    "execution": {
     "iopub.execute_input": "2025-04-19T09:21:31.357529Z",
     "iopub.status.busy": "2025-04-19T09:21:31.357245Z",
     "iopub.status.idle": "2025-04-19T09:21:31.365845Z",
     "shell.execute_reply": "2025-04-19T09:21:31.364985Z",
     "shell.execute_reply.started": "2025-04-19T09:21:31.357510Z"
    },
    "trusted": true
   },
   "outputs": [],
   "source": [
    "def train_one_epoch(loader):\n",
    "    model.train()\n",
    "    total_loss, correct = 0, 0\n",
    "    for inputs, labels in loader:\n",
    "        inputs, labels = inputs.to(device), labels.to(device)\n",
    "        optimizer.zero_grad()\n",
    "        with autocast(device_type=\"cuda\"):\n",
    "            outputs = model(inputs)\n",
    "            loss = criterion(outputs, labels)\n",
    "        scaler.scale(loss).backward()\n",
    "        scaler.step(optimizer)\n",
    "        scaler.update()\n",
    "        total_loss += loss.item() * inputs.size(0)\n",
    "        correct += (outputs.argmax(1) == labels).sum().item()\n",
    "    return total_loss / len(loader.dataset), correct / len(loader.dataset)\n",
    "\n",
    "# Evaluation loop\n",
    "def evaluate(loader):\n",
    "    model.eval()\n",
    "    total_loss, correct = 0, 0\n",
    "    with torch.no_grad():\n",
    "        for inputs, labels in loader:\n",
    "            inputs, labels = inputs.to(device), labels.to(device)\n",
    "            with autocast(device_type=\"cuda\"):\n",
    "                outputs = model(inputs)\n",
    "                loss = criterion(outputs, labels)\n",
    "            total_loss += loss.item() * inputs.size(0)\n",
    "            correct += (outputs.argmax(1) == labels).sum().item()\n",
    "    return total_loss / len(loader.dataset), correct / len(loader.dataset)"
   ]
  },
  {
   "cell_type": "code",
   "execution_count": 8,
   "metadata": {
    "execution": {
     "iopub.execute_input": "2025-04-19T09:21:34.200795Z",
     "iopub.status.busy": "2025-04-19T09:21:34.200164Z",
     "iopub.status.idle": "2025-04-19T09:21:34.206293Z",
     "shell.execute_reply": "2025-04-19T09:21:34.205569Z",
     "shell.execute_reply.started": "2025-04-19T09:21:34.200771Z"
    },
    "trusted": true
   },
   "outputs": [],
   "source": [
    "def test(loader):\n",
    "    model.eval()\n",
    "    correct = 0\n",
    "    with torch.no_grad():\n",
    "        for inputs, labels in loader:\n",
    "            inputs, labels = inputs.to(device), labels.to(device)\n",
    "            outputs = model(inputs)\n",
    "            correct += (outputs.argmax(1) == labels).sum().item()\n",
    "    return correct / len(loader.dataset)"
   ]
  },
  {
   "cell_type": "code",
   "execution_count": 9,
   "metadata": {
    "execution": {
     "iopub.execute_input": "2025-04-19T09:21:36.374209Z",
     "iopub.status.busy": "2025-04-19T09:21:36.373927Z",
     "iopub.status.idle": "2025-04-19T09:47:25.648901Z",
     "shell.execute_reply": "2025-04-19T09:47:25.648144Z",
     "shell.execute_reply.started": "2025-04-19T09:21:36.374192Z"
    },
    "trusted": true
   },
   "outputs": [
    {
     "name": "stdout",
     "output_type": "stream",
     "text": [
      "[Epoch 1] Train Acc: 0.6296 | Val Acc: 0.7055\n",
      "[Epoch 2] Train Acc: 0.7418 | Val Acc: 0.7150\n",
      "[Epoch 3] Train Acc: 0.7760 | Val Acc: 0.7400\n",
      "[Epoch 4] Train Acc: 0.8034 | Val Acc: 0.7320\n",
      "[Epoch 5] Train Acc: 0.8294 | Val Acc: 0.7360\n",
      "[Epoch 6] Train Acc: 0.8580 | Val Acc: 0.7590\n",
      "[Epoch 7] Train Acc: 0.8785 | Val Acc: 0.7690\n",
      "[Epoch 8] Train Acc: 0.8905 | Val Acc: 0.7635\n",
      "[Epoch 9] Train Acc: 0.9004 | Val Acc: 0.7615\n",
      "[Epoch 10] Train Acc: 0.9122 | Val Acc: 0.7710\n",
      "[Epoch 11] Train Acc: 0.9249 | Val Acc: 0.7650\n",
      "[Epoch 12] Train Acc: 0.9397 | Val Acc: 0.7465\n",
      "[Epoch 13] Train Acc: 0.9437 | Val Acc: 0.7565\n",
      "[Epoch 14] Train Acc: 0.9481 | Val Acc: 0.7655\n",
      "[Epoch 15] Train Acc: 0.9500 | Val Acc: 0.7655\n"
     ]
    }
   ],
   "source": [
    "for epoch in range(epochs):\n",
    "    train_loss, train_acc = train_one_epoch(train_loader)\n",
    "    val_loss, val_acc = evaluate(val_loader)\n",
    "    scheduler.step()\n",
    "    print(f\"[Epoch {epoch+1}] Train Acc: {train_acc:.4f} | Val Acc: {val_acc:.4f}\")\n",
    "    wandb.log({\n",
    "        \"epoch\": epoch+1,\n",
    "        \"train_loss\": train_loss,\n",
    "        \"train_acc\": train_acc,\n",
    "        \"val_loss\": val_loss,\n",
    "        \"val_acc\": val_acc,\n",
    "        \"lr\": scheduler.get_last_lr()[0]\n",
    "    })"
   ]
  },
  {
   "cell_type": "code",
   "execution_count": 10,
   "metadata": {
    "execution": {
     "iopub.execute_input": "2025-04-19T09:49:22.491747Z",
     "iopub.status.busy": "2025-04-19T09:49:22.490752Z",
     "iopub.status.idle": "2025-04-19T09:49:48.423279Z",
     "shell.execute_reply": "2025-04-19T09:49:48.422619Z",
     "shell.execute_reply.started": "2025-04-19T09:49:22.491719Z"
    },
    "trusted": true
   },
   "outputs": [
    {
     "name": "stdout",
     "output_type": "stream",
     "text": [
      "✅ Test Accuracy: 0.7805\n"
     ]
    },
    {
     "data": {
      "text/plain": [
       "['/kaggle/working/wandb/run-20250419_092115-mbow948k/files/resnet50_finetuned.pth']"
      ]
     },
     "execution_count": 10,
     "metadata": {},
     "output_type": "execute_result"
    }
   ],
   "source": [
    "# Final test accuracy\n",
    "test_acc = test(test_loader)\n",
    "print(f\"✅ Test Accuracy: {test_acc:.4f}\")\n",
    "wandb.log({\"test_acc\": test_acc})\n",
    "\n",
    "# Save model\n",
    "torch.save(model.state_dict(), \"resnet50_finetuned.pth\")\n",
    "wandb.save(\"resnet50_finetuned.pth\")"
   ]
  },
  {
   "cell_type": "code",
   "execution_count": null,
   "metadata": {
    "trusted": true
   },
   "outputs": [],
   "source": []
  }
 ],
 "metadata": {
  "kaggle": {
   "accelerator": "nvidiaTeslaT4",
   "dataSources": [
    {
     "datasetId": 7164837,
     "sourceId": 11438164,
     "sourceType": "datasetVersion"
    }
   ],
   "dockerImageVersionId": 31011,
   "isGpuEnabled": true,
   "isInternetEnabled": true,
   "language": "python",
   "sourceType": "notebook"
  },
  "kernelspec": {
   "display_name": "Python 3",
   "language": "python",
   "name": "python3"
  },
  "language_info": {
   "codemirror_mode": {
    "name": "ipython",
    "version": 3
   },
   "file_extension": ".py",
   "mimetype": "text/x-python",
   "name": "python",
   "nbconvert_exporter": "python",
   "pygments_lexer": "ipython3",
   "version": "3.11.11"
  }
 },
 "nbformat": 4,
 "nbformat_minor": 4
}
